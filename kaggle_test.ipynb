{
  "nbformat": 4,
  "nbformat_minor": 0,
  "metadata": {
    "colab": {
      "name": "kaggle_test.ipynb",
      "provenance": [],
      "authorship_tag": "ABX9TyN3cMlQfb7arqvKrg73GZHl",
      "include_colab_link": true
    },
    "kernelspec": {
      "name": "python3",
      "display_name": "Python 3"
    },
    "language_info": {
      "name": "python"
    }
  },
  "cells": [
    {
      "cell_type": "markdown",
      "metadata": {
        "id": "view-in-github",
        "colab_type": "text"
      },
      "source": [
        "<a href=\"https://colab.research.google.com/github/Pataweepr/scb_TS_course/blob/main/kaggle_test.ipynb\" target=\"_parent\"><img src=\"https://colab.research.google.com/assets/colab-badge.svg\" alt=\"Open In Colab\"/></a>"
      ]
    },
    {
      "cell_type": "code",
      "metadata": {
        "id": "MLch9rVnXxXi"
      },
      "source": [
        "# !kaggle datasets download -d rakannimer/air-passengers"
      ],
      "execution_count": 5,
      "outputs": []
    },
    {
      "cell_type": "code",
      "metadata": {
        "colab": {
          "base_uri": "https://localhost:8080/"
        },
        "id": "0mwotoUCYUsu",
        "outputId": "6c41323f-627d-402f-ec7c-e7edf5548d81"
      },
      "source": [
        "!wget https://raw.githubusercontent.com/Pataweepr/scb_TS_course/master/AirPassengers.csv"
      ],
      "execution_count": 3,
      "outputs": [
        {
          "output_type": "stream",
          "text": [
            "--2021-07-06 06:21:15--  https://raw.githubusercontent.com/Pataweepr/scb_TS_course/master/AirPassengers.csv\n",
            "Resolving raw.githubusercontent.com (raw.githubusercontent.com)... 185.199.108.133, 185.199.109.133, 185.199.110.133, ...\n",
            "Connecting to raw.githubusercontent.com (raw.githubusercontent.com)|185.199.108.133|:443... connected.\n",
            "HTTP request sent, awaiting response... 200 OK\n",
            "Length: 1746 (1.7K) [text/plain]\n",
            "Saving to: ‘AirPassengers.csv’\n",
            "\n",
            "AirPassengers.csv   100%[===================>]   1.71K  --.-KB/s    in 0s      \n",
            "\n",
            "2021-07-06 06:21:15 (28.4 MB/s) - ‘AirPassengers.csv’ saved [1746/1746]\n",
            "\n"
          ],
          "name": "stdout"
        }
      ]
    },
    {
      "cell_type": "code",
      "metadata": {
        "colab": {
          "base_uri": "https://localhost:8080/"
        },
        "id": "RzuvU1pda0Kd",
        "outputId": "6022aaa0-9001-4e79-d6ce-dbdb843601f7"
      },
      "source": [
        "!ls"
      ],
      "execution_count": 4,
      "outputs": [
        {
          "output_type": "stream",
          "text": [
            "AirPassengers.csv  sample_data\n"
          ],
          "name": "stdout"
        }
      ]
    },
    {
      "cell_type": "code",
      "metadata": {
        "id": "zBNk34VIenGP"
      },
      "source": [
        ""
      ],
      "execution_count": null,
      "outputs": []
    }
  ]
}